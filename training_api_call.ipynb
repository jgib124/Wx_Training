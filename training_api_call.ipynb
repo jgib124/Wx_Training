{
 "cells": [
  {
   "cell_type": "code",
   "execution_count": 6,
   "id": "4d4518d9",
   "metadata": {},
   "outputs": [
    {
     "name": "stderr",
     "output_type": "stream",
     "text": [
      "2022-02-09 20:22:41,872 INFO Welcome to the CDS\n",
      "2022-02-09 20:22:41,874 INFO Sending request to https://cds.climate.copernicus.eu/api/v2/resources/reanalysis-era5-pressure-levels\n",
      "2022-02-09 20:22:42,014 INFO Request is queued\n",
      "2022-02-09 20:22:43,123 INFO Request is running\n",
      "2022-02-09 20:23:14,895 INFO Request is completed\n",
      "2022-02-09 20:23:14,895 INFO Downloading https://download-0005.copernicus-climate.eu/cache-compute-0005/cache/data9/adaptor.mars.internal-1644456185.9531145-31776-6-aecb047d-2db8-4fe5-bea8-800f54e78651.nc to training.nc (37M)\n",
      "2022-02-09 20:23:28,545 INFO Download rate 2.7M/s   \n"
     ]
    },
    {
     "data": {
      "text/plain": [
       "Result(content_length=38762976,content_type=application/x-netcdf,location=https://download-0005.copernicus-climate.eu/cache-compute-0005/cache/data9/adaptor.mars.internal-1644456185.9531145-31776-6-aecb047d-2db8-4fe5-bea8-800f54e78651.nc)"
      ]
     },
     "execution_count": 6,
     "metadata": {},
     "output_type": "execute_result"
    }
   ],
   "source": [
    "import cdsapi\n",
    "\n",
    "c = cdsapi.Client()\n",
    "\n",
    "c.retrieve(\n",
    "    'reanalysis-era5-pressure-levels',\n",
    "    {\n",
    "        'product_type': 'reanalysis',\n",
    "        'format': 'netcdf',\n",
    "        'pressure_level': [\n",
    "            '650', '700', '750',\n",
    "            '775', '800', '825',\n",
    "            '850', '875', '900',\n",
    "            '925', '950', '975',\n",
    "            '1000',\n",
    "        ],\n",
    "        'year': '2020',\n",
    "        'month': '10',\n",
    "        'day': '31',\n",
    "        'time': [\n",
    "            '00:00', '01:00', '02:00',\n",
    "            '03:00', '04:00', '05:00',\n",
    "            '06:00', '07:00', '08:00',\n",
    "            '09:00', '10:00', '11:00',\n",
    "            '12:00', '13:00', '14:00',\n",
    "            '15:00', '16:00', '17:00',\n",
    "            '18:00', '19:00', '20:00',\n",
    "            '21:00', '22:00', '23:00',\n",
    "        ],\n",
    "        'area': [\n",
    "            -11, 129, -36,\n",
    "            180,\n",
    "        ],\n",
    "        'variable': [\n",
    "            'relative_humidity', 'temperature', 'vertical_velocity',\n",
    "        ],\n",
    "    },\n",
    "    'training.nc')"
   ]
  },
  {
   "cell_type": "code",
   "execution_count": null,
   "id": "d818f707",
   "metadata": {},
   "outputs": [],
   "source": []
  }
 ],
 "metadata": {
  "kernelspec": {
   "display_name": "Python 3 (ipykernel)",
   "language": "python",
   "name": "python3"
  },
  "language_info": {
   "codemirror_mode": {
    "name": "ipython",
    "version": 3
   },
   "file_extension": ".py",
   "mimetype": "text/x-python",
   "name": "python",
   "nbconvert_exporter": "python",
   "pygments_lexer": "ipython3",
   "version": "3.9.7"
  }
 },
 "nbformat": 4,
 "nbformat_minor": 5
}
